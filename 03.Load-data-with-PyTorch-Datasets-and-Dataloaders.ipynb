{
 "cells": [
  {
   "cell_type": "markdown",
   "source": [
    "# データセットとデータローダ\n",
    "\n",
    "データサンプルを処理するコードは煩雑でメンテナンスが大変です。\n",
    "理想的には、データセットのコードはモデルのトレーニングコードから切り離すことで、読みやすさとモジュール性を高めます。\n",
    "PyTorchには2つのデータプリミティブがあります。それは `torch.utils.data.DataLoader` と `torch.utils.data.Dataset` です。\n",
    "これらのプリミティブを使用することで、あらかじめロードされたデータセットや独自のデータを使用することができます。\n",
    "`Dataset`にはサンプルとそれに対応するラベルが格納されており、`DataLoader`は`Dataset`にイテレート可能なデータをラップすることで、サンプルへのアクセスを容易にしています。\n",
    "\n",
    "PyTorchドメインライブラリは、以下のような多くのプリロードされたデータセット(FashionMNISTなど)を提供しています。\n",
    "このライブラリは、 `torch.utils.data.Dataset` をサブクラス化し、特定のデータに固有の関数を実装しています。\n",
    "これらのライブラリは、モデルのプロトタイプやベンチマークに使用できます。これらは以下の通りです。\n",
    "ここをクリックしてください。[Image Datasets](https://pytorch.org/vision/stable/datasets.html),\n",
    "[Text Datasets](https://pytorch.org/text/stable/datasets.html), および\n",
    "[Audio Datasets](https://pytorch.org/audio/stable/datasets.html)\n",
    "\n",
    "## データセットのロード\n",
    "\n",
    "TorchVisionから[Fashion-MNIST](https://research.zalando.com/welcome/mission/research-projects/fashion-mnist/)データセットを読み込む例を紹介します。\n",
    "Fashion-MNISTは、Zalandoの記事画像のデータセットで、60,000のトレーニング例と10,000のテスト例で構成されています。\n",
    "各例は、28×28のグレースケール画像と、10のクラスのうちの1つの関連するラベルから構成されています。\n",
    "\n",
    "[FashionMNIST Dataset](https://pytorch.org/vision/stable/datasets.html#fashion-mnist)を以下のパラメータで読み込みます。\n",
    "\n",
    "- `root` はトレーニング/テストデータが保存されているパスです。\n",
    "- `train` はトレーニングデータセットまたはテストデータセットを指定します。\n",
    "- `download=True` は、`root` にデータがない場合、インターネットからデータをダウンロードします。\n",
    "- `transform`と`target_transform`は、特徴とラベルの変換を指定します。\n",
    "\n"
   ],
   "metadata": {}
  },
  {
   "cell_type": "code",
   "execution_count": 3,
   "source": [
    "import torch\n",
    "from torch.utils.data import Dataset\n",
    "from torchvision import datasets\n",
    "from torchvision.transforms import ToTensor, Lambda\n",
    "import matplotlib.pyplot as plt\n",
    "\n",
    "training_data = datasets.FashionMNIST(\n",
    "    root=\"data\",\n",
    "    train=True,\n",
    "    download=True,\n",
    "    transform=ToTensor()\n",
    ")\n",
    "\n",
    "test_data = datasets.FashionMNIST(\n",
    "    root=\"data\",\n",
    "    train=False,\n",
    "    download=True,\n",
    "    transform=ToTensor()\n",
    ")\n"
   ],
   "outputs": [
    {
     "output_type": "stream",
     "name": "stdout",
     "text": [
      "Downloading http://fashion-mnist.s3-website.eu-central-1.amazonaws.com/train-images-idx3-ubyte.gz to data/FashionMNIST/raw/train-images-idx3-ubyte.gz\n"
     ]
    },
    {
     "output_type": "stream",
     "name": "stderr",
     "text": [
      "26422272it [02:45, 160022.24it/s]                              \n"
     ]
    },
    {
     "output_type": "stream",
     "name": "stdout",
     "text": [
      "Extracting data/FashionMNIST/raw/train-images-idx3-ubyte.gz to data/FashionMNIST/raw\n",
      "Downloading http://fashion-mnist.s3-website.eu-central-1.amazonaws.com/train-labels-idx1-ubyte.gz to data/FashionMNIST/raw/train-labels-idx1-ubyte.gz\n"
     ]
    },
    {
     "output_type": "stream",
     "name": "stderr",
     "text": [
      "29696it [00:00, 116641.56it/s]                          \n"
     ]
    },
    {
     "output_type": "stream",
     "name": "stdout",
     "text": [
      "Extracting data/FashionMNIST/raw/train-labels-idx1-ubyte.gz to data/FashionMNIST/raw\n",
      "Downloading http://fashion-mnist.s3-website.eu-central-1.amazonaws.com/t10k-images-idx3-ubyte.gz to data/FashionMNIST/raw/t10k-images-idx3-ubyte.gz\n"
     ]
    },
    {
     "output_type": "stream",
     "name": "stderr",
     "text": [
      "4422656it [00:04, 988402.25it/s]                              \n"
     ]
    },
    {
     "output_type": "stream",
     "name": "stdout",
     "text": [
      "Extracting data/FashionMNIST/raw/t10k-images-idx3-ubyte.gz to data/FashionMNIST/raw\n",
      "Downloading http://fashion-mnist.s3-website.eu-central-1.amazonaws.com/t10k-labels-idx1-ubyte.gz to data/FashionMNIST/raw/t10k-labels-idx1-ubyte.gz\n"
     ]
    },
    {
     "output_type": "stream",
     "name": "stderr",
     "text": [
      "6144it [00:00, 10450042.08it/s]         "
     ]
    },
    {
     "output_type": "stream",
     "name": "stdout",
     "text": [
      "Extracting data/FashionMNIST/raw/t10k-labels-idx1-ubyte.gz to data/FashionMNIST/raw\n",
      "Processing...\n",
      "Done!\n"
     ]
    },
    {
     "output_type": "stream",
     "name": "stderr",
     "text": [
      "\n",
      "/Users/shogo/miniforge3/envs/pytorch/lib/python3.8/site-packages/torchvision/datasets/mnist.py:479: UserWarning: The given NumPy array is not writeable, and PyTorch does not support non-writeable tensors. This means you can write to the underlying (supposedly non-writeable) NumPy array using the tensor. You may want to copy the array to protect its data or make it writeable before converting it to a tensor. This type of warning will be suppressed for the rest of this program. (Triggered internally at  /tmp/pip-req-build-4gogm3_o/torch/csrc/utils/tensor_numpy.cpp:143.)\n",
      "  return torch.from_numpy(parsed.astype(m[2], copy=False)).view(*s)\n"
     ]
    }
   ],
   "metadata": {}
  },
  {
   "cell_type": "markdown",
   "source": [
    "データセットのイテレーションとビジュアル化\n",
    "-----------------\n",
    "\n",
    "`Datasets` をリストのように手動でインデックスすることができます。``training_data[index]`` \n",
    "ここでは， `matplotlib` を用いて，学習データの中のいくつかのサンプルを可視化します．\n"
   ],
   "metadata": {}
  },
  {
   "cell_type": "code",
   "execution_count": 4,
   "source": [
    "labels_map = {\n",
    "    0: \"T-Shirt\",\n",
    "    1: \"Trouser\",\n",
    "    2: \"Pullover\",\n",
    "    3: \"Dress\",\n",
    "    4: \"Coat\",\n",
    "    5: \"Sandal\",\n",
    "    6: \"Shirt\",\n",
    "    7: \"Sneaker\",\n",
    "    8: \"Bag\",\n",
    "    9: \"Ankle Boot\",\n",
    "}\n",
    "figure = plt.figure(figsize=(8, 8))\n",
    "cols, rows = 3, 3\n",
    "for i in range(1, cols * rows + 1):\n",
    "    sample_idx = torch.randint(len(training_data), size=(1,)).item()\n",
    "    img, label = training_data[sample_idx]\n",
    "    figure.add_subplot(rows, cols, i)\n",
    "    plt.title(labels_map[label])\n",
    "    plt.axis(\"off\")\n",
    "    plt.imshow(img.squeeze(), cmap=\"gray\")\n",
    "plt.show()\n"
   ],
   "outputs": [
    {
     "output_type": "display_data",
     "data": {
      "text/plain": [
       "<Figure size 576x576 with 9 Axes>"
      ],
      "image/png": "[encoded data removed]"
     },
     "metadata": {
      "needs_background": "light"
     }
    }
   ],
   "metadata": {}
  },
  {
   "cell_type": "markdown",
   "source": [
    "ファイルのカスタムデータセットの作成\n",
    "---------------------------------------------------\n",
    "\n",
    "カスタムデータセットクラスは、3つの関数を実装する必要があります。`__init__`, `__len__`, `__getitem__` です。\n",
    "この実装を見てみましょう。FashionMNISTの画像は、`img_dir`に格納されています。\n",
    "FashionMNISTの画像はディレクトリ `img_dir` に格納され、ラベルはCSVファイル `annotations_file` に別々に格納されています。\n",
    "\n",
    "次のセクションでは、これらの各関数で何が起こっているかを説明します。\n",
    "\n"
   ],
   "metadata": {}
  },
  {
   "cell_type": "code",
   "execution_count": 6,
   "source": [
    "import os\n",
    "import pandas as pd\n",
    "import torchvision.io as tvio\n",
    "\n",
    "\n",
    "class CustomImageDataset(Dataset):\n",
    "    def __init__(self, annotations_file, img_dir, transform=None, target_transform=None):\n",
    "        self.img_labels = pd.read_csv(annotations_file)\n",
    "        self.img_dir = img_dir\n",
    "        self.transform = transform\n",
    "        self.target_transform = target_transform\n",
    "\n",
    "    def __len__(self):\n",
    "        return len(self.img_labels)\n",
    "\n",
    "    def __getitem__(self, idx):\n",
    "        img_path = os.path.join(self.img_dir, self.img_labels.iloc[idx, 0])\n",
    "        image = tvio.read_image(img_path)\n",
    "        label = self.img_labels.iloc[idx, 1]\n",
    "        if self.transform:\n",
    "            image = self.transform(image)\n",
    "        if self.target_transform:\n",
    "            label = self.target_transform(label)\n",
    "        sample = {\"image\": image, \"label\": label}\n",
    "        return sample\n"
   ],
   "outputs": [],
   "metadata": {}
  },
  {
   "cell_type": "markdown",
   "source": [
    "## init\n",
    "\n",
    "`__init__` 関数は、Datasetオブジェクトをインスタンス化する際に一度だけ実行されます。初期化するのは\n",
    "画像の入ったディレクトリ、アノテーションファイル、両方のトランスフォーム（次のセクションで詳しく説明します)。\n",
    "\n",
    "labels.csvファイルは以下のようになります。\n",
    "\n",
    "```python\n",
    "\n",
    "    tshirt1.jpg, 0\n",
    "    tshirt2.jpg, 0\n",
    "    ......\n",
    "    ankleboot999.jpg, 9\n",
    "```\n",
    "\n",
    "例:\n",
    "\n",
    "```python\n",
    "def __init__(self, annotations_file, img_dir, transform=None, target_transform=None):\n",
    "    self.img_labels = pd.read_csv(annotations_file)\n",
    "    self.img_dir = img_dir\n",
    "    self.transform = transform\n",
    "    self.target_transform = target_transform\n",
    "```\n"
   ],
   "metadata": {}
  },
  {
   "cell_type": "markdown",
   "source": [
    "## len\n",
    "\n",
    "関数 `__len__` は、データセットのサンプル数を返します。\n",
    "\n",
    "例:\n",
    "\n",
    "```python\n",
    "def __len__(self):\n",
    "    return len(self.img_labels)\n",
    "```\n"
   ],
   "metadata": {}
  },
  {
   "cell_type": "markdown",
   "source": [],
   "metadata": {}
  },
  {
   "cell_type": "markdown",
   "source": [
    "## getitem\n",
    "\n",
    "`__getitem__` 関数は、データセットから、与えられたインデックス `idx` にあるサンプルをロードして返します。\n",
    "インデックスに基づき，画像のディスク上の位置を特定し，それを `read_image` でテンソルに変換し，対応するラベルを `self.img_labels` のcsvデータから取得する．\n",
    "対応するラベルを `self.img_labels` のcsvデータから取得し，（必要に応じて）それらの変換関数を呼び出し，テンソル画像と対応するラベルを \n",
    "テンソルイメージと対応するラベルをPythonの`dict`で返します。\n",
    "\n",
    "例:\n",
    "\n",
    "```python\n",
    "def __getitem__(self, idx):\n",
    "    img_path = os.path.join(self.img_dir, self.img_labels.iloc[idx, 0])\n",
    "    image = read_image(img_path)\n",
    "    label = self.img_labels.iloc[idx, 1] (ラベル)\n",
    "    if self.transform:\n",
    "        image = self.transform(image)\n",
    "    if self.target_transform:\n",
    "        label = self.target_transform(label)\n",
    "    sample = {\"image\": image, \"label\": label}。\n",
    "    return sample\n",
    "```\n"
   ],
   "metadata": {}
  },
  {
   "cell_type": "markdown",
   "source": [
    "DataLoadersによるトレーニング用データの準備\n",
    "-------------------------------------------------\n",
    "`Dataset`は、データセットの特徴量とラベルを1サンプルずつ取得します。\n",
    "モデルを学習する際には，通常，サンプルを \"ミニバッチ\"で渡し，モデルのオーバーフィッティングを減らすためにエポック毎にデータを再編成し，Pythonの `multiprocessing` を使ってデータの取得を高速化したいと考えます．\n",
    "\n",
    "`DataLoader` はイテレート可能で、この複雑さを簡単なAPIで抽象化してくれます。\n"
   ],
   "metadata": {}
  },
  {
   "cell_type": "code",
   "execution_count": 7,
   "source": [
    "from torch.utils.data import DataLoader\n",
    "\n",
    "train_dataloader = DataLoader(training_data, batch_size=64, shuffle=True)\n",
    "test_dataloader = DataLoader(test_data, batch_size=64, shuffle=True)"
   ],
   "outputs": [],
   "metadata": {}
  },
  {
   "cell_type": "markdown",
   "source": [
    "## DataLoaderを反復処理する\n",
    "\n",
    "データセットを `Dataloader` にロードしたので、必要に応じてデータセットを反復処理することができます。\n",
    "以下の各イテレーションは，`train_features`と`train_labels`（それぞれ`batch_size=64`のフィーチャーとラベルを含む）のバッチを返します．`shuffle=True`を指定しているので，すべてのバッチを繰り返し処理した後に，データがシャッフルされます（データのロード順をより細かく制御するには，[例](https://pytorch.org/docs/stable/data.html#data-loading-order-and-sampler>)を参照してください）．\n",
    "\n"
   ],
   "metadata": {}
  },
  {
   "cell_type": "code",
   "execution_count": 8,
   "source": [
    "# Display image and label.\n",
    "train_features, train_labels = next(iter(train_dataloader))\n",
    "print(f\"Feature batch shape: {train_features.size()}\")\n",
    "print(f\"Labels batch shape: {train_labels.size()}\")\n",
    "img = train_features[0].squeeze()\n",
    "label = train_labels[0]\n",
    "plt.imshow(img, cmap=\"gray\")\n",
    "plt.show()\n",
    "print(f\"Label: {label}\")\n"
   ],
   "outputs": [
    {
     "output_type": "stream",
     "name": "stdout",
     "text": [
      "Feature batch shape: torch.Size([64, 1, 28, 28])\n",
      "Labels batch shape: torch.Size([64])\n"
     ]
    },
    {
     "output_type": "display_data",
     "data": {
      "text/plain": [
       "<Figure size 432x288 with 1 Axes>"
      ],
      "image/png": "[encoded data removed]"
     },
     "metadata": {
      "needs_background": "light"
     }
    },
    {
     "output_type": "stream",
     "name": "stdout",
     "text": [
      "Label: 4\n"
     ]
    }
   ],
   "metadata": {}
  },
  {
   "cell_type": "markdown",
   "source": [
    "# 知識の確認\n",
    "\n",
    "1. PyTorch DataSetとPyTorch DataLoaderの違いは何ですか？\n",
    "\n",
    "- DataSetはデータのバッチを扱うように設計されているのに対し、DataLoaderは個々のデータアイテムを検索するように設計されています。\n",
    "  > DataSetは個々のデータアイテムを取得するために設計されており、DataLoaderはデータのバッチを扱うために設計されています。\n",
    "\n",
    "- DataSetは個々のデータ項目を検索するように設計されていますが、DataLoaderはデータのバッチを扱うように設計されています。\n",
    "  > 正解です。DataSetは個々のデータアイテムを取得するために設計されており、DataLoaderはデータのバッチを扱うために設計されています。\n",
    "\n",
    "- DataLoaderクラスはDataSetクラスの親です。\n",
    "  > DataSetは個々のデータアイテムを取得するために設計されており、DataLoaderはデータのバッチを扱うために設計されています。\n",
    "\n",
    "- DataSetクラスは、DataLoaderクラスの親です。\n",
    "  > DataSetは個々のデータアイテムを取得するために設計されており、DataLoaderはデータのバッチを扱うために設計されています。\n"
   ],
   "metadata": {}
  },
  {
   "cell_type": "markdown",
   "source": [],
   "metadata": {}
  }
 ],
 "metadata": {
  "orig_nbformat": 4,
  "language_info": {
   "name": "python",
   "version": "3.8.8",
   "mimetype": "text/x-python",
   "codemirror_mode": {
    "name": "ipython",
    "version": 3
   },
   "pygments_lexer": "ipython3",
   "nbconvert_exporter": "python",
   "file_extension": ".py"
  },
  "kernelspec": {
   "name": "python3",
   "display_name": "Python 3.8.8 64-bit ('pytorch': conda)"
  },
  "interpreter": {
   "hash": "a34f0c579350e7a308be104477b2a7af43d707a05d583f6c54fb3f18cffd7bfe"
  }
 },
 "nbformat": 4,
 "nbformat_minor": 2
}