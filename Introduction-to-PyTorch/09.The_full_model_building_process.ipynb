{
 "cells": [
  {
   "cell_type": "code",
   "execution_count": 1,
   "source": [
    "%matplotlib inline"
   ],
   "outputs": [],
   "metadata": {}
  },
  {
   "cell_type": "markdown",
   "source": [
    "このユニットでは、機械学習の一般的なタスクのためのAPIを実行します。各セクションのリンクを参照して、より深く掘り下げていきます。\n",
    "\n",
    "## データを扱う\n",
    "\n",
    "PyTorch には `torch.utils.data.DataLoader` と `torch.utils.data.Dataset` という2つの[データを扱うためのプリミティブ](https://pytorch.org/docs/stable/data.html)があります。`Dataset` には、サンプルとそれに対応するラベルが格納され、`DataLoader` は `Dataset` にイテレート可能なデータをラップします。"
   ],
   "metadata": {}
  },
  {
   "cell_type": "code",
   "execution_count": 2,
   "source": [
    "import torch\n",
    "from torch import nn\n",
    "from torch.utils.data import DataLoader\n",
    "from torchvision import datasets\n",
    "from torchvision.transforms import ToTensor, Lambda, Compose\n",
    "import matplotlib.pyplot as plt"
   ],
   "outputs": [],
   "metadata": {}
  },
  {
   "cell_type": "markdown",
   "source": [
    "PyTorchには、[TorchText](https://pytorch.org/text/stable/index.html), [TorchVision](https://pytorch.org/vision/stable/index.html), [TorchAudio](https://pytorch.org/audio/stable/index.html)などのドメインに特化したライブラリがあり、これらにはデータセットが含まれています。このチュートリアルでは、TorchVisionのデータセットを使います。\n",
    "\n",
    "`Torchvision.datasets`モジュールには、CIFAR, COCO ([full list here](https://pytorch.org/docs/stable/torchvision/datasets.html))のような、多くの実世界のビジョンデータの `Dataset` オブジェクトが含まれています。このチュートリアルでは、**FashionMNIST**データセットを使用します。TorchVisionの `Dataset` には2つの引数があります。それは `transform` と `target_transform` で、それぞれサンプルとラベルを変更します。"
   ],
   "metadata": {}
  },
  {
   "cell_type": "code",
   "execution_count": 3,
   "source": [
    "# Download training data from open datasets.\n",
    "training_data = datasets.FashionMNIST(\n",
    "    root=\"data\",\n",
    "    train=True,\n",
    "    download=True,\n",
    "    transform=ToTensor(),\n",
    ")\n",
    "\n",
    "# Download test data from open datasets.\n",
    "test_data = datasets.FashionMNIST(\n",
    "    root=\"data\",\n",
    "    train=False,\n",
    "    download=True,\n",
    "    transform=ToTensor(),\n",
    ")"
   ],
   "outputs": [],
   "metadata": {}
  },
  {
   "cell_type": "markdown",
   "source": [
    "`DataLoader` の引数として `Dataset` を渡します。これはデータセットのイテレート可能性をラッピングしたもので、自動バッチ処理、サンプリング、シャッフル、マルチプロセスデータローディングをサポートしています。ここでは、バッチサイズを64と定義しています。つまり、データローダの反復可能な各要素は、64個の特徴とラベルのバッチを返すことになります。"
   ],
   "metadata": {}
  },
  {
   "cell_type": "code",
   "execution_count": 4,
   "source": [
    "batch_size = 64\n",
    "\n",
    "# Create data loaders.\n",
    "train_dataloader = DataLoader(training_data, batch_size=batch_size)\n",
    "test_dataloader = DataLoader(test_data, batch_size=batch_size)\n",
    "\n",
    "for X, y in test_dataloader:\n",
    "    print(\"Shape of X [N, C, H, W]: \", X.shape)\n",
    "    print(\"Shape of y: \", y.shape, y.dtype)\n",
    "    break"
   ],
   "outputs": [
    {
     "output_type": "stream",
     "name": "stdout",
     "text": [
      "Shape of X [N, C, H, W]:  torch.Size([64, 1, 28, 28])\n",
      "Shape of y:  torch.Size([64]) torch.int64\n"
     ]
    }
   ],
   "metadata": {}
  },
  {
   "cell_type": "markdown",
   "source": [
    "## モデルの作成\n",
    "PyTorchでニューラルネットワークを定義するには、[nn.Module](https://pytorch.org/docs/stable/generated/torch.nn.Module.html)を継承したクラスを作成します。`__init__` 関数でネットワークのレイヤーを定義し、`forward` 関数でデータがネットワークをどのように通過するかを指定します。ニューラルネットワークの演算を高速化するために、可能であればGPUに移します。"
   ],
   "metadata": {}
  },
  {
   "cell_type": "code",
   "execution_count": 5,
   "source": [
    "# Get cpu or gpu device for training.\n",
    "device = \"cuda\" if torch.cuda.is_available() else \"cpu\"\n",
    "print(\"Using {} device\".format(device))\n",
    "\n",
    "# Define model\n",
    "\n",
    "\n",
    "class NeuralNetwork(nn.Module):\n",
    "    def __init__(self):\n",
    "        super(NeuralNetwork, self).__init__()\n",
    "        self.flatten = nn.Flatten()\n",
    "        self.linear_relu_stack = nn.Sequential(\n",
    "            nn.Linear(28 * 28, 512),\n",
    "            nn.ReLU(),\n",
    "            nn.Linear(512, 512),\n",
    "            nn.ReLU(),\n",
    "            nn.Linear(512, 10),\n",
    "            nn.ReLU()\n",
    "        )\n",
    "\n",
    "    def forward(self, x):\n",
    "        x = self.flatten(x)\n",
    "        logits = self.linear_relu_stack(x)\n",
    "        return logits\n",
    "\n",
    "\n",
    "model = NeuralNetwork().to(device)\n",
    "print(model)"
   ],
   "outputs": [
    {
     "output_type": "stream",
     "name": "stdout",
     "text": [
      "Using cpu device\n",
      "NeuralNetwork(\n",
      "  (flatten): Flatten(start_dim=1, end_dim=-1)\n",
      "  (linear_relu_stack): Sequential(\n",
      "    (0): Linear(in_features=784, out_features=512, bias=True)\n",
      "    (1): ReLU()\n",
      "    (2): Linear(in_features=512, out_features=512, bias=True)\n",
      "    (3): ReLU()\n",
      "    (4): Linear(in_features=512, out_features=10, bias=True)\n",
      "    (5): ReLU()\n",
      "  )\n",
      ")\n"
     ]
    }
   ],
   "metadata": {}
  },
  {
   "cell_type": "markdown",
   "source": [
    "## モデルパラメータの最適化\n",
    "\n",
    "モデルを学習するためには、[損失関数](https://pytorch.org/docs/stable/nn.html#loss-functions>)と[オプティマイザー](https://pytorch.org/docs/stable/optim.html)が必要です。"
   ],
   "metadata": {}
  },
  {
   "cell_type": "code",
   "execution_count": 6,
   "source": [
    "loss_fn = nn.CrossEntropyLoss()\n",
    "learning_rate = 1e-3\n",
    "optimizer = torch.optim.SGD(model.parameters(), lr=learning_rate)"
   ],
   "outputs": [],
   "metadata": {}
  },
  {
   "cell_type": "markdown",
   "source": [
    "1つの学習ループの中で、モデルは（バッチで与えられた）学習データセットに対して予測を行い、予測誤差をバックプロパゲーションしてモデルのパラメータを調整します。"
   ],
   "metadata": {}
  },
  {
   "cell_type": "code",
   "execution_count": 7,
   "source": [
    "def train(dataloader, model, loss_fn, optimizer):\n",
    "    size = len(dataloader.dataset)\n",
    "    for batch, (X, y) in enumerate(dataloader):\n",
    "        X, y = X.to(device), y.to(device)\n",
    "\n",
    "        # Compute prediction error\n",
    "        pred = model(X)\n",
    "        loss = loss_fn(pred, y)\n",
    "\n",
    "        # Backpropagation\n",
    "        optimizer.zero_grad()\n",
    "        loss.backward()\n",
    "        optimizer.step()\n",
    "\n",
    "        if batch % 100 == 0:\n",
    "            loss, current = loss.item(), batch * len(X)\n",
    "            print(f\"loss: {loss:>7f}  [{current:>5d}/{size:>5d}]\")"
   ],
   "outputs": [],
   "metadata": {}
  },
  {
   "cell_type": "markdown",
   "source": [
    "また、テストデータセットに対してモデルの性能を確認し、学習していることを確認します。"
   ],
   "metadata": {}
  },
  {
   "cell_type": "code",
   "execution_count": 8,
   "source": [
    "def test(dataloader, model):\n",
    "    size = len(dataloader.dataset)\n",
    "    model.eval()\n",
    "    test_loss, correct = 0, 0\n",
    "    with torch.no_grad():\n",
    "        for X, y in dataloader:\n",
    "            X, y = X.to(device), y.to(device)\n",
    "            pred = model(X)\n",
    "            test_loss += loss_fn(pred, y).item()\n",
    "            correct += (pred.argmax(1) == y).type(torch.float).sum().item()\n",
    "    test_loss /= size\n",
    "    correct /= size\n",
    "    print(f\"Test Error: \\n Accuracy: {(100*correct):>0.1f}%, Avg loss: {test_loss:>8f} \\n\")"
   ],
   "outputs": [],
   "metadata": {}
  },
  {
   "cell_type": "markdown",
   "source": [
    "学習プロセスは、いくつかの反復（*エポック*）で行われます。各エポックの間に、モデルはより良い予測をするためのパラメータを学習します。エポックごとにモデルの精度と損失を表示します。エポックごとに精度が上がり、損失が減ることを期待しています。"
   ],
   "metadata": {}
  },
  {
   "cell_type": "code",
   "execution_count": 9,
   "source": [
    "epochs = 15\n",
    "for t in range(epochs):\n",
    "    print(f\"Epoch {t+1}\\n-------------------------------\")\n",
    "    train(train_dataloader, model, loss_fn, optimizer)\n",
    "    test(test_dataloader, model)\n",
    "print(\"Done!\")"
   ],
   "outputs": [
    {
     "output_type": "stream",
     "name": "stdout",
     "text": [
      "Epoch 1\n",
      "-------------------------------\n",
      "loss: 2.301571  [    0/60000]\n",
      "loss: 2.294775  [ 6400/60000]\n",
      "loss: 2.283246  [12800/60000]\n",
      "loss: 2.277582  [19200/60000]\n",
      "loss: 2.269792  [25600/60000]\n",
      "loss: 2.267385  [32000/60000]\n",
      "loss: 2.252189  [38400/60000]\n",
      "loss: 2.243959  [44800/60000]\n",
      "loss: 2.244788  [51200/60000]\n",
      "loss: 2.225713  [57600/60000]\n",
      "Test Error: \n",
      " Accuracy: 43.7%, Avg loss: 0.034918 \n",
      "\n",
      "Epoch 2\n",
      "-------------------------------\n",
      "loss: 2.233778  [    0/60000]\n",
      "loss: 2.217471  [ 6400/60000]\n",
      "loss: 2.184243  [12800/60000]\n",
      "loss: 2.183712  [19200/60000]\n",
      "loss: 2.157760  [25600/60000]\n",
      "loss: 2.178869  [32000/60000]\n",
      "loss: 2.141837  [38400/60000]\n",
      "loss: 2.131330  [44800/60000]\n",
      "loss: 2.145938  [51200/60000]\n",
      "loss: 2.095896  [57600/60000]\n",
      "Test Error: \n",
      " Accuracy: 41.4%, Avg loss: 0.032912 \n",
      "\n",
      "Epoch 3\n",
      "-------------------------------\n",
      "loss: 2.124473  [    0/60000]\n",
      "loss: 2.085369  [ 6400/60000]\n",
      "loss: 2.015752  [12800/60000]\n",
      "loss: 2.021131  [19200/60000]\n",
      "loss: 1.975584  [25600/60000]\n",
      "loss: 2.031260  [32000/60000]\n",
      "loss: 1.958274  [38400/60000]\n",
      "loss: 1.955635  [44800/60000]\n",
      "loss: 1.994579  [51200/60000]\n",
      "loss: 1.898449  [57600/60000]\n",
      "Test Error: \n",
      " Accuracy: 43.5%, Avg loss: 0.029944 \n",
      "\n",
      "Epoch 4\n",
      "-------------------------------\n",
      "loss: 1.966409  [    0/60000]\n",
      "loss: 1.897177  [ 6400/60000]\n",
      "loss: 1.794296  [12800/60000]\n",
      "loss: 1.804907  [19200/60000]\n",
      "loss: 1.764349  [25600/60000]\n",
      "loss: 1.872567  [32000/60000]\n",
      "loss: 1.747099  [38400/60000]\n",
      "loss: 1.782232  [44800/60000]\n",
      "loss: 1.834052  [51200/60000]\n",
      "loss: 1.696453  [57600/60000]\n",
      "Test Error: \n",
      " Accuracy: 48.2%, Avg loss: 0.027059 \n",
      "\n",
      "Epoch 5\n",
      "-------------------------------\n",
      "loss: 1.810858  [    0/60000]\n",
      "loss: 1.722926  [ 6400/60000]\n",
      "loss: 1.603376  [12800/60000]\n",
      "loss: 1.615148  [19200/60000]\n",
      "loss: 1.591389  [25600/60000]\n",
      "loss: 1.745923  [32000/60000]\n",
      "loss: 1.573293  [38400/60000]\n",
      "loss: 1.650939  [44800/60000]\n",
      "loss: 1.695742  [51200/60000]\n",
      "loss: 1.546913  [57600/60000]\n",
      "Test Error: \n",
      " Accuracy: 51.1%, Avg loss: 0.024828 \n",
      "\n",
      "Epoch 6\n",
      "-------------------------------\n",
      "loss: 1.680920  [    0/60000]\n",
      "loss: 1.590377  [ 6400/60000]\n",
      "loss: 1.458318  [12800/60000]\n",
      "loss: 1.477124  [19200/60000]\n",
      "loss: 1.457455  [25600/60000]\n",
      "loss: 1.644574  [32000/60000]\n",
      "loss: 1.451162  [38400/60000]\n",
      "loss: 1.554262  [44800/60000]\n",
      "loss: 1.590549  [51200/60000]\n",
      "loss: 1.450038  [57600/60000]\n",
      "Test Error: \n",
      " Accuracy: 52.6%, Avg loss: 0.023227 \n",
      "\n",
      "Epoch 7\n",
      "-------------------------------\n",
      "loss: 1.582917  [    0/60000]\n",
      "loss: 1.497334  [ 6400/60000]\n",
      "loss: 1.353515  [12800/60000]\n",
      "loss: 1.380567  [19200/60000]\n",
      "loss: 1.363278  [25600/60000]\n",
      "loss: 1.569490  [32000/60000]\n"
     ]
    }
   ],
   "metadata": {}
  },
  {
   "cell_type": "markdown",
   "source": [
    "最初は精度があまりよくありません（それでもいいんです！）。もっと多くの `epochs` でループを実行するか、`learning_rate` をより大きな数値に調整してみてください。また、私たちが選んだモデル構成が、この種の問題に最適なものではないかもしれません（そうではありません）。この後の講座では、視覚問題に有効なモデルの形状について、より深く掘り下げていきます。"
   ],
   "metadata": {}
  },
  {
   "cell_type": "markdown",
   "source": [
    "モデルの保存\n",
    "-------------\n",
    "モデルを保存する一般的な方法は、内部状態辞書（モデルのパラメータを含む）をシリアル化することです。"
   ],
   "metadata": {}
  },
  {
   "cell_type": "code",
   "execution_count": null,
   "source": [
    "torch.save(model.state_dict(), \"data/model.pth\")\n",
    "print(\"Saved PyTorch Model State to model.pth\")"
   ],
   "outputs": [],
   "metadata": {}
  },
  {
   "cell_type": "markdown",
   "source": [
    "ローディングモデル\n",
    "----------------------------\n",
    "\n",
    "モデルをロードするプロセスでは、モデルの構造を再作成し、そこに状態辞書をロードします。\n",
    "ステートディクショナリーをロードします。"
   ],
   "metadata": {}
  },
  {
   "cell_type": "code",
   "execution_count": null,
   "source": [
    "model = NeuralNetwork()\n",
    "model.load_state_dict(torch.load(\"data/model.pth\"))"
   ],
   "outputs": [],
   "metadata": {}
  },
  {
   "cell_type": "code",
   "execution_count": null,
   "source": [
    "classes = [\n",
    "    \"T-shirt/top\",\n",
    "    \"Trouser\",\n",
    "    \"Pullover\",\n",
    "    \"Dress\",\n",
    "    \"Coat\",\n",
    "    \"Sandal\",\n",
    "    \"Shirt\",\n",
    "    \"Sneaker\",\n",
    "    \"Bag\",\n",
    "    \"Ankle boot\",\n",
    "]\n",
    "\n",
    "model.eval()\n",
    "x, y = test_data[0][0], test_data[0][1]\n",
    "with torch.no_grad():\n",
    "    pred = model(x)\n",
    "    predicted, actual = classes[pred[0].argmax(0)], classes[y]\n",
    "    print(f'Predicted: \"{predicted}\", Actual: \"{actual}\"')"
   ],
   "outputs": [],
   "metadata": {}
  }
 ],
 "metadata": {
  "orig_nbformat": 4,
  "language_info": {
   "name": "python",
   "version": "3.8.8",
   "mimetype": "text/x-python",
   "codemirror_mode": {
    "name": "ipython",
    "version": 3
   },
   "pygments_lexer": "ipython3",
   "nbconvert_exporter": "python",
   "file_extension": ".py"
  },
  "kernelspec": {
   "name": "python3",
   "display_name": "Python 3.8.8 64-bit ('pytorch': conda)"
  },
  "interpreter": {
   "hash": "a34f0c579350e7a308be104477b2a7af43d707a05d583f6c54fb3f18cffd7bfe"
  }
 },
 "nbformat": 4,
 "nbformat_minor": 2
}