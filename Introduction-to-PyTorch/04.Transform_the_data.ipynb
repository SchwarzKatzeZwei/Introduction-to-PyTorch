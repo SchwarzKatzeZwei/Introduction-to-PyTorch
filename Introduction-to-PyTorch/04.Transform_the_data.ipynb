{
 "cells": [
  {
   "cell_type": "code",
   "execution_count": 1,
   "source": [
    "%matplotlib inline"
   ],
   "outputs": [],
   "metadata": {}
  },
  {
   "cell_type": "markdown",
   "source": [
    "# Transforms\n",
    "\n",
    "データは機械学習アルゴリズムの学習に必要な最終的な処理形態であるとは限りません。  \n",
    "私たちはデータを操作して学習に適した形にするために**変換**を行います。\n",
    "\n",
    "すべてのTorchVisionデータセットには、変換ロジックを含む呼び出し可能な2つのパラメータ（`transform`は特徴の変更、`target_transform`はラベルの変更）があります。\n",
    "[torchvision.transforms](https://pytorch.org/vision/stable/transforms.html)モジュールはよく使われる変換がいくつか用意されています。\n",
    "\n",
    "FashionMNISTの特徴はPIL Image形式で、ラベルは整数です。\n",
    "トレーニングには、特徴は正規化されたテンソル、ラベルはワンショットエンコードされたテンソルが必要です。\n",
    "これらの変換を行うために、`ToTensor`と`Lambda`を使用します。\n"
   ],
   "metadata": {}
  },
  {
   "cell_type": "code",
   "execution_count": 2,
   "source": [
    "from torchvision import datasets\n",
    "from torchvision.transforms import ToTensor, Lambda\n",
    "\n",
    "ds = datasets.FashionMNIST(\n",
    "    root=\"data\",\n",
    "    train=True,\n",
    "    download=True,\n",
    "    transform=ToTensor(),\n",
    "    target_transform=Lambda(lambda y: torch.zeros(10, dtype=torch.float).scatter_(0, torch.tensor(y), value=1))\n",
    ")"
   ],
   "outputs": [
    {
     "output_type": "stream",
     "name": "stdout",
     "text": [
      "Downloading http://fashion-mnist.s3-website.eu-central-1.amazonaws.com/train-images-idx3-ubyte.gz to data/FashionMNIST/raw/train-images-idx3-ubyte.gz\n"
     ]
    },
    {
     "output_type": "stream",
     "name": "stderr",
     "text": [
      "26422272it [04:16, 103081.48it/s]                              \n"
     ]
    },
    {
     "output_type": "stream",
     "name": "stdout",
     "text": [
      "Extracting data/FashionMNIST/raw/train-images-idx3-ubyte.gz to data/FashionMNIST/raw\n",
      "Downloading http://fashion-mnist.s3-website.eu-central-1.amazonaws.com/train-labels-idx1-ubyte.gz to data/FashionMNIST/raw/train-labels-idx1-ubyte.gz\n"
     ]
    },
    {
     "output_type": "stream",
     "name": "stderr",
     "text": [
      "29696it [00:00, 116677.18it/s]                          \n"
     ]
    },
    {
     "output_type": "stream",
     "name": "stdout",
     "text": [
      "Extracting data/FashionMNIST/raw/train-labels-idx1-ubyte.gz to data/FashionMNIST/raw\n",
      "Downloading http://fashion-mnist.s3-website.eu-central-1.amazonaws.com/t10k-images-idx3-ubyte.gz to data/FashionMNIST/raw/t10k-images-idx3-ubyte.gz\n"
     ]
    },
    {
     "output_type": "stream",
     "name": "stderr",
     "text": [
      "4422656it [00:05, 746180.14it/s]                             \n"
     ]
    },
    {
     "output_type": "stream",
     "name": "stdout",
     "text": [
      "Extracting data/FashionMNIST/raw/t10k-images-idx3-ubyte.gz to data/FashionMNIST/raw\n",
      "Downloading http://fashion-mnist.s3-website.eu-central-1.amazonaws.com/t10k-labels-idx1-ubyte.gz to data/FashionMNIST/raw/t10k-labels-idx1-ubyte.gz\n"
     ]
    },
    {
     "output_type": "stream",
     "name": "stderr",
     "text": [
      "6144it [00:00, 13074481.88it/s]         "
     ]
    },
    {
     "output_type": "stream",
     "name": "stdout",
     "text": [
      "Extracting data/FashionMNIST/raw/t10k-labels-idx1-ubyte.gz to data/FashionMNIST/raw\n",
      "Processing...\n",
      "Done!\n"
     ]
    },
    {
     "output_type": "stream",
     "name": "stderr",
     "text": [
      "\n",
      "/Users/shogo/miniforge3/envs/pytorch/lib/python3.8/site-packages/torchvision/datasets/mnist.py:479: UserWarning: The given NumPy array is not writeable, and PyTorch does not support non-writeable tensors. This means you can write to the underlying (supposedly non-writeable) NumPy array using the tensor. You may want to copy the array to protect its data or make it writeable before converting it to a tensor. This type of warning will be suppressed for the rest of this program. (Triggered internally at  /tmp/pip-req-build-4gogm3_o/torch/csrc/utils/tensor_numpy.cpp:143.)\n",
      "  return torch.from_numpy(parsed.astype(m[2], copy=False)).view(*s)\n"
     ]
    }
   ],
   "metadata": {}
  },
  {
   "cell_type": "markdown",
   "source": [
    "## ToTensor()\n",
    "\n",
    "[ToTensor](https://pytorch.org/vision/stable/transforms.html#torchvision.transforms.ToTensor)はPILイメージまたはNumPy `ndarray` を `FloatTensor` に変換し、イメージのピクセル強度値を範囲[0., 1.]でスケーリングします。\n",
    "\n",
    "## Lambda transforms\n",
    "\n",
    "ラムダ変換とは、ユーザーが定義した任意のラムダ関数を適用するものです。ここでは関数を定義し、整数をワンショット符号化されたテンソルに変換します。まず、サイズ10（データセットのラベル数）のゼロテンソルを作成し、[scatter](https://pytorch.org/docs/stable/tensors.html#torch.Tensor.scatter_) を呼び出します。\n",
    "これは、ラベル `y` で与えられるインデックスに `value=1` を割り当てるものです。"
   ],
   "metadata": {}
  },
  {
   "cell_type": "code",
   "execution_count": 3,
   "source": [
    "target_transform = Lambda(lambda y: torch.zeros(\n",
    "    10, dtype=torch.float).scatter_(dim=0, index=torch.tensor(y), value=1))"
   ],
   "outputs": [],
   "metadata": {}
  },
  {
   "cell_type": "markdown",
   "source": [
    "# 知識の確認\n",
    "\n",
    "1. PyTorchのトランスフォームは以下の目的で設計されています。\n",
    "\n",
    "* 学習に適したデータにするために、何らかの操作を行う\n",
    "  > これは正しいです。\n",
    "\n",
    "* 入力テンソルを、予測値を含む出力テンソルに変換する\n",
    "  > 間違っています。変換では、トレーニングに適したデータにするために、データに何らかの操作を施します。\n",
    "\n",
    "* データアイテムを視覚的な表現に変換する\n",
    "  > 間違っています。変換では、トレーニングに適したデータにするために、データに何らかの操作を施します。\n",
    "\n"
   ],
   "metadata": {}
  },
  {
   "cell_type": "markdown",
   "source": [],
   "metadata": {}
  }
 ],
 "metadata": {
  "orig_nbformat": 4,
  "language_info": {
   "name": "python",
   "version": "3.8.8",
   "mimetype": "text/x-python",
   "codemirror_mode": {
    "name": "ipython",
    "version": 3
   },
   "pygments_lexer": "ipython3",
   "nbconvert_exporter": "python",
   "file_extension": ".py"
  },
  "kernelspec": {
   "name": "python3",
   "display_name": "Python 3.8.8 64-bit ('pytorch': conda)"
  },
  "interpreter": {
   "hash": "a34f0c579350e7a308be104477b2a7af43d707a05d583f6c54fb3f18cffd7bfe"
  }
 },
 "nbformat": 4,
 "nbformat_minor": 2
}