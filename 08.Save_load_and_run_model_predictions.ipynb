{
 "cells": [
  {
   "cell_type": "code",
   "execution_count": 1,
   "source": [
    "%matplotlib inline"
   ],
   "outputs": [],
   "metadata": {}
  },
  {
   "cell_type": "markdown",
   "source": [
    "# モデルの保存と読み込み\n",
    "\n",
    "このユニットでは、モデル予測の保存、読み込み、実行によってモデルの状態を持続させる方法を見ていきます。"
   ],
   "metadata": {}
  },
  {
   "cell_type": "code",
   "execution_count": 2,
   "source": [
    "import torch\n",
    "import torch.onnx as onnx\n",
    "import torchvision.models as models"
   ],
   "outputs": [],
   "metadata": {}
  },
  {
   "cell_type": "markdown",
   "source": [
    "## モデルウェイトの保存と読み込み\n",
    "\n",
    "PyTorchのモデルは、学習したパラメータを内部の状態辞書（`state_dict`と呼びます）に保存します。これらは `torch.save` メソッドで永続化することができます。"
   ],
   "metadata": {}
  },
  {
   "cell_type": "code",
   "execution_count": 3,
   "source": [
    "model = models.vgg16(pretrained=True)\n",
    "torch.save(model.state_dict(), 'data/model_weights.pth')"
   ],
   "outputs": [
    {
     "output_type": "stream",
     "name": "stderr",
     "text": [
      "Downloading: \"https://download.pytorch.org/models/vgg16-397923af.pth\" to /Users/shogo/.cache/torch/hub/checkpoints/vgg16-397923af.pth\n",
      "100%|██████████| 528M/528M [00:08<00:00, 63.2MB/s]\n"
     ]
    }
   ],
   "metadata": {}
  },
  {
   "cell_type": "markdown",
   "source": [
    "モデルのウェイトをロードするには、まず同じモデルのインスタンスを作成し、`load_state_dict()`メソッドを使ってパラメータをロードする必要があります。"
   ],
   "metadata": {}
  },
  {
   "cell_type": "code",
   "execution_count": 4,
   "source": [
    "model = models.vgg16()  # we do not specify pretrained=True, i.e. do not load default weights\n",
    "model.load_state_dict(torch.load('data/model_weights.pth'))\n",
    "model.eval()"
   ],
   "outputs": [
    {
     "output_type": "execute_result",
     "data": {
      "text/plain": [
       "VGG(\n",
       "  (features): Sequential(\n",
       "    (0): Conv2d(3, 64, kernel_size=(3, 3), stride=(1, 1), padding=(1, 1))\n",
       "    (1): ReLU(inplace=True)\n",
       "    (2): Conv2d(64, 64, kernel_size=(3, 3), stride=(1, 1), padding=(1, 1))\n",
       "    (3): ReLU(inplace=True)\n",
       "    (4): MaxPool2d(kernel_size=2, stride=2, padding=0, dilation=1, ceil_mode=False)\n",
       "    (5): Conv2d(64, 128, kernel_size=(3, 3), stride=(1, 1), padding=(1, 1))\n",
       "    (6): ReLU(inplace=True)\n",
       "    (7): Conv2d(128, 128, kernel_size=(3, 3), stride=(1, 1), padding=(1, 1))\n",
       "    (8): ReLU(inplace=True)\n",
       "    (9): MaxPool2d(kernel_size=2, stride=2, padding=0, dilation=1, ceil_mode=False)\n",
       "    (10): Conv2d(128, 256, kernel_size=(3, 3), stride=(1, 1), padding=(1, 1))\n",
       "    (11): ReLU(inplace=True)\n",
       "    (12): Conv2d(256, 256, kernel_size=(3, 3), stride=(1, 1), padding=(1, 1))\n",
       "    (13): ReLU(inplace=True)\n",
       "    (14): Conv2d(256, 256, kernel_size=(3, 3), stride=(1, 1), padding=(1, 1))\n",
       "    (15): ReLU(inplace=True)\n",
       "    (16): MaxPool2d(kernel_size=2, stride=2, padding=0, dilation=1, ceil_mode=False)\n",
       "    (17): Conv2d(256, 512, kernel_size=(3, 3), stride=(1, 1), padding=(1, 1))\n",
       "    (18): ReLU(inplace=True)\n",
       "    (19): Conv2d(512, 512, kernel_size=(3, 3), stride=(1, 1), padding=(1, 1))\n",
       "    (20): ReLU(inplace=True)\n",
       "    (21): Conv2d(512, 512, kernel_size=(3, 3), stride=(1, 1), padding=(1, 1))\n",
       "    (22): ReLU(inplace=True)\n",
       "    (23): MaxPool2d(kernel_size=2, stride=2, padding=0, dilation=1, ceil_mode=False)\n",
       "    (24): Conv2d(512, 512, kernel_size=(3, 3), stride=(1, 1), padding=(1, 1))\n",
       "    (25): ReLU(inplace=True)\n",
       "    (26): Conv2d(512, 512, kernel_size=(3, 3), stride=(1, 1), padding=(1, 1))\n",
       "    (27): ReLU(inplace=True)\n",
       "    (28): Conv2d(512, 512, kernel_size=(3, 3), stride=(1, 1), padding=(1, 1))\n",
       "    (29): ReLU(inplace=True)\n",
       "    (30): MaxPool2d(kernel_size=2, stride=2, padding=0, dilation=1, ceil_mode=False)\n",
       "  )\n",
       "  (avgpool): AdaptiveAvgPool2d(output_size=(7, 7))\n",
       "  (classifier): Sequential(\n",
       "    (0): Linear(in_features=25088, out_features=4096, bias=True)\n",
       "    (1): ReLU(inplace=True)\n",
       "    (2): Dropout(p=0.5, inplace=False)\n",
       "    (3): Linear(in_features=4096, out_features=4096, bias=True)\n",
       "    (4): ReLU(inplace=True)\n",
       "    (5): Dropout(p=0.5, inplace=False)\n",
       "    (6): Linear(in_features=4096, out_features=1000, bias=True)\n",
       "  )\n",
       ")"
      ]
     },
     "metadata": {},
     "execution_count": 4
    }
   ],
   "metadata": {}
  },
  {
   "cell_type": "markdown",
   "source": [
    "> **Note:** 推論を行う前に、必ず`model.eval()`メソッドを呼び出し、ドロップアウトとバッチ正規化のレイヤーを評価モードに設定してください。これを行わないと、推論結果に一貫性がなくなります。"
   ],
   "metadata": {}
  },
  {
   "cell_type": "markdown",
   "source": [
    "## シェイプ付きモデルの保存と読み込み\n",
    "\n",
    "モデルの重みを読み込む際には、まずモデルクラスをインスタンス化する必要がありました。モデルクラスはネットワークの構造を定義しているからです。このクラスの構造をモデルと一緒に保存したい場合は、`model`（`model.state_dict()`ではなく）を保存関数に渡します。"
   ],
   "metadata": {}
  },
  {
   "cell_type": "code",
   "execution_count": 5,
   "source": [
    "torch.save(model, 'data/vgg_model.pth')"
   ],
   "outputs": [],
   "metadata": {}
  },
  {
   "cell_type": "markdown",
   "source": [
    "そして、次のようにモデルを読み込みます。"
   ],
   "metadata": {}
  },
  {
   "cell_type": "code",
   "execution_count": 6,
   "source": [
    "model = torch.load('data/vgg_model.pth')"
   ],
   "outputs": [],
   "metadata": {}
  },
  {
   "cell_type": "markdown",
   "source": [
    "> **Note:** この方法は、モデルをシリアル化する際にPythonの[pickle](https://docs.python.org/3/library/pickle.html)モジュールを使用するため、モデルをロードする際に実際のクラス定義が利用可能であることに依存します。"
   ],
   "metadata": {}
  },
  {
   "cell_type": "markdown",
   "source": [
    "## モデルのONNXへのエクスポート\n",
    "\n",
    "PyTorchは、ONNXへのエクスポートをネイティブにサポートしています。しかし、PyTorch の実行グラフは動的であるため、エクスポート処理では実行グラフを横断して ONNX モデルを生成する必要があります。このため、適切なサイズのテスト変数をエクスポートルーチンに渡す必要があります（ここでは、適切なサイズのダミーのゼロテンソルを作成します）。"
   ],
   "metadata": {}
  },
  {
   "cell_type": "code",
   "execution_count": 7,
   "source": [
    "input_image = torch.zeros((1,3,224,224))\n",
    "onnx.export(model, input_image, 'data/model.onnx')"
   ],
   "outputs": [],
   "metadata": {}
  },
  {
   "cell_type": "markdown",
   "source": [
    "ONNXモデルでは、異なるプラットフォームや異なるプログラミング言語で推論を実行するなど、様々なことが可能です。詳しくは、[ONNXチュートリアル](https://github.com/onnx/tutorials)をご覧ください。\n",
    "\n",
    "おめでとうございます。これでPyTorchの初心者向けチュートリアルは終了です。このチュートリアルが、PyTorchで深層学習を始める際のお役に立てれば幸いです。"
   ],
   "metadata": {}
  },
  {
   "cell_type": "markdown",
   "source": [
    "# 自分の知識を確認する\n",
    "\n",
    "1. PyTorchモデル`state_dict`とは？\n",
    "\n",
    "- モデルの内部状態を表す辞書で、現在の精度と損失の値が格納されています。\n",
    "  > 不正解\n",
    "- 学習に使用したデータのバージョンを格納するモデルの内部状態辞書です。\n",
    "  > 不正解\n",
    "- 内部レイヤーを格納するモデルの内部状態辞書です。\n",
    "  > 不正解\n",
    "- 学習されたパラメータを格納するモデルの内部状態辞書です。\n",
    "  > 正解\n"
   ],
   "metadata": {}
  },
  {
   "cell_type": "markdown",
   "source": [],
   "metadata": {}
  }
 ],
 "metadata": {
  "orig_nbformat": 4,
  "language_info": {
   "name": "python",
   "version": "3.8.8",
   "mimetype": "text/x-python",
   "codemirror_mode": {
    "name": "ipython",
    "version": 3
   },
   "pygments_lexer": "ipython3",
   "nbconvert_exporter": "python",
   "file_extension": ".py"
  },
  "kernelspec": {
   "name": "python3",
   "display_name": "Python 3.8.8 64-bit ('pytorch': conda)"
  },
  "interpreter": {
   "hash": "a34f0c579350e7a308be104477b2a7af43d707a05d583f6c54fb3f18cffd7bfe"
  }
 },
 "nbformat": 4,
 "nbformat_minor": 2
}